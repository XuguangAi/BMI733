{
  "nbformat": 4,
  "nbformat_minor": 0,
  "metadata": {
    "colab": {
      "name": "Final.ipynb",
      "provenance": [],
      "machine_shape": "hm",
      "authorship_tag": "ABX9TyN/9BtzYnwjgZ+XwOtl4LPR",
      "include_colab_link": true
    },
    "kernelspec": {
      "name": "python3",
      "display_name": "Python 3"
    },
    "language_info": {
      "name": "python"
    },
    "accelerator": "GPU"
  },
  "cells": [
    {
      "cell_type": "markdown",
      "metadata": {
        "id": "view-in-github",
        "colab_type": "text"
      },
      "source": [
        "<a href=\"https://colab.research.google.com/github/XuguangAi/BMI733/blob/main/AskReddit%20BERT%20V1.ipynb\" target=\"_parent\"><img src=\"https://colab.research.google.com/assets/colab-badge.svg\" alt=\"Open In Colab\"/></a>"
      ]
    },
    {
      "cell_type": "code",
      "metadata": {
        "id": "FvJQeoqBJuJj"
      },
      "source": [
        "!pip install -q -U tensorflow-text"
      ],
      "execution_count": 37,
      "outputs": []
    },
    {
      "cell_type": "code",
      "metadata": {
        "id": "pjle9mhpKMRn"
      },
      "source": [
        "import tensorflow as tf\n",
        "import tensorflow_hub as hub\n",
        "import tensorflow_text as text"
      ],
      "execution_count": 38,
      "outputs": []
    },
    {
      "cell_type": "code",
      "metadata": {
        "colab": {
          "base_uri": "https://localhost:8080/",
          "height": 204
        },
        "id": "u-nMZo2xKMVC",
        "outputId": "5762d3da-b89c-41a4-9d93-3a94f098009a"
      },
      "source": [
        "import pandas as pd\n",
        "\n",
        "df = pd.read_csv(\"Reddit_balanced.csv\")\n",
        "df.head(5)"
      ],
      "execution_count": 39,
      "outputs": [
        {
          "output_type": "execute_result",
          "data": {
            "text/html": [
              "<div>\n",
              "<style scoped>\n",
              "    .dataframe tbody tr th:only-of-type {\n",
              "        vertical-align: middle;\n",
              "    }\n",
              "\n",
              "    .dataframe tbody tr th {\n",
              "        vertical-align: top;\n",
              "    }\n",
              "\n",
              "    .dataframe thead th {\n",
              "        text-align: right;\n",
              "    }\n",
              "</style>\n",
              "<table border=\"1\" class=\"dataframe\">\n",
              "  <thead>\n",
              "    <tr style=\"text-align: right;\">\n",
              "      <th></th>\n",
              "      <th>Unnamed: 0</th>\n",
              "      <th>date</th>\n",
              "      <th>title</th>\n",
              "      <th>score</th>\n",
              "      <th>over_18</th>\n",
              "      <th>popularity</th>\n",
              "    </tr>\n",
              "  </thead>\n",
              "  <tbody>\n",
              "    <tr>\n",
              "      <th>0</th>\n",
              "      <td>0</td>\n",
              "      <td>2021-09-23 00:52:22+00:00</td>\n",
              "      <td>Americans that defend the confederate flag, why?</td>\n",
              "      <td>185</td>\n",
              "      <td>True</td>\n",
              "      <td>popular</td>\n",
              "    </tr>\n",
              "    <tr>\n",
              "      <th>1</th>\n",
              "      <td>1</td>\n",
              "      <td>2021-09-22 22:16:54+00:00</td>\n",
              "      <td>If God gave you the power to erase one thing f...</td>\n",
              "      <td>379</td>\n",
              "      <td>False</td>\n",
              "      <td>popular</td>\n",
              "    </tr>\n",
              "    <tr>\n",
              "      <th>2</th>\n",
              "      <td>2</td>\n",
              "      <td>2021-08-21 20:57:49+00:00</td>\n",
              "      <td>Porn addicts,how did you end up being addicted...</td>\n",
              "      <td>119</td>\n",
              "      <td>True</td>\n",
              "      <td>popular</td>\n",
              "    </tr>\n",
              "    <tr>\n",
              "      <th>3</th>\n",
              "      <td>3</td>\n",
              "      <td>2021-08-21 20:53:42+00:00</td>\n",
              "      <td>At your funeral, you can yell out one thing be...</td>\n",
              "      <td>101</td>\n",
              "      <td>False</td>\n",
              "      <td>popular</td>\n",
              "    </tr>\n",
              "    <tr>\n",
              "      <th>4</th>\n",
              "      <td>4</td>\n",
              "      <td>2021-08-21 18:52:58+00:00</td>\n",
              "      <td>Without telling your age, how old are you?</td>\n",
              "      <td>240</td>\n",
              "      <td>False</td>\n",
              "      <td>popular</td>\n",
              "    </tr>\n",
              "  </tbody>\n",
              "</table>\n",
              "</div>"
            ],
            "text/plain": [
              "   Unnamed: 0                       date  ... over_18  popularity\n",
              "0           0  2021-09-23 00:52:22+00:00  ...    True     popular\n",
              "1           1  2021-09-22 22:16:54+00:00  ...   False     popular\n",
              "2           2  2021-08-21 20:57:49+00:00  ...    True     popular\n",
              "3           3  2021-08-21 20:53:42+00:00  ...   False     popular\n",
              "4           4  2021-08-21 18:52:58+00:00  ...   False     popular\n",
              "\n",
              "[5 rows x 6 columns]"
            ]
          },
          "metadata": {},
          "execution_count": 39
        }
      ]
    },
    {
      "cell_type": "code",
      "metadata": {
        "colab": {
          "base_uri": "https://localhost:8080/"
        },
        "id": "mdxZubsgKMYA",
        "outputId": "d9ebceb8-9f61-4425-86df-9faa1e638450"
      },
      "source": [
        "df['popularity'].value_counts()"
      ],
      "execution_count": 40,
      "outputs": [
        {
          "output_type": "execute_result",
          "data": {
            "text/plain": [
              "unpopular    9999\n",
              "popular      9998\n",
              "Name: popularity, dtype: int64"
            ]
          },
          "metadata": {},
          "execution_count": 40
        }
      ]
    },
    {
      "cell_type": "code",
      "metadata": {
        "colab": {
          "base_uri": "https://localhost:8080/",
          "height": 204
        },
        "id": "uoW_LURwKMa3",
        "outputId": "53881d8e-d2a0-4148-96ce-7dfd44a09a9d"
      },
      "source": [
        "df['popular']=df['popularity'].apply(lambda x: 1 if x=='popular' else 0)\n",
        "df.head(5)"
      ],
      "execution_count": 41,
      "outputs": [
        {
          "output_type": "execute_result",
          "data": {
            "text/html": [
              "<div>\n",
              "<style scoped>\n",
              "    .dataframe tbody tr th:only-of-type {\n",
              "        vertical-align: middle;\n",
              "    }\n",
              "\n",
              "    .dataframe tbody tr th {\n",
              "        vertical-align: top;\n",
              "    }\n",
              "\n",
              "    .dataframe thead th {\n",
              "        text-align: right;\n",
              "    }\n",
              "</style>\n",
              "<table border=\"1\" class=\"dataframe\">\n",
              "  <thead>\n",
              "    <tr style=\"text-align: right;\">\n",
              "      <th></th>\n",
              "      <th>Unnamed: 0</th>\n",
              "      <th>date</th>\n",
              "      <th>title</th>\n",
              "      <th>score</th>\n",
              "      <th>over_18</th>\n",
              "      <th>popularity</th>\n",
              "      <th>popular</th>\n",
              "    </tr>\n",
              "  </thead>\n",
              "  <tbody>\n",
              "    <tr>\n",
              "      <th>0</th>\n",
              "      <td>0</td>\n",
              "      <td>2021-09-23 00:52:22+00:00</td>\n",
              "      <td>Americans that defend the confederate flag, why?</td>\n",
              "      <td>185</td>\n",
              "      <td>True</td>\n",
              "      <td>popular</td>\n",
              "      <td>1</td>\n",
              "    </tr>\n",
              "    <tr>\n",
              "      <th>1</th>\n",
              "      <td>1</td>\n",
              "      <td>2021-09-22 22:16:54+00:00</td>\n",
              "      <td>If God gave you the power to erase one thing f...</td>\n",
              "      <td>379</td>\n",
              "      <td>False</td>\n",
              "      <td>popular</td>\n",
              "      <td>1</td>\n",
              "    </tr>\n",
              "    <tr>\n",
              "      <th>2</th>\n",
              "      <td>2</td>\n",
              "      <td>2021-08-21 20:57:49+00:00</td>\n",
              "      <td>Porn addicts,how did you end up being addicted...</td>\n",
              "      <td>119</td>\n",
              "      <td>True</td>\n",
              "      <td>popular</td>\n",
              "      <td>1</td>\n",
              "    </tr>\n",
              "    <tr>\n",
              "      <th>3</th>\n",
              "      <td>3</td>\n",
              "      <td>2021-08-21 20:53:42+00:00</td>\n",
              "      <td>At your funeral, you can yell out one thing be...</td>\n",
              "      <td>101</td>\n",
              "      <td>False</td>\n",
              "      <td>popular</td>\n",
              "      <td>1</td>\n",
              "    </tr>\n",
              "    <tr>\n",
              "      <th>4</th>\n",
              "      <td>4</td>\n",
              "      <td>2021-08-21 18:52:58+00:00</td>\n",
              "      <td>Without telling your age, how old are you?</td>\n",
              "      <td>240</td>\n",
              "      <td>False</td>\n",
              "      <td>popular</td>\n",
              "      <td>1</td>\n",
              "    </tr>\n",
              "  </tbody>\n",
              "</table>\n",
              "</div>"
            ],
            "text/plain": [
              "   Unnamed: 0                       date  ... popularity  popular\n",
              "0           0  2021-09-23 00:52:22+00:00  ...    popular        1\n",
              "1           1  2021-09-22 22:16:54+00:00  ...    popular        1\n",
              "2           2  2021-08-21 20:57:49+00:00  ...    popular        1\n",
              "3           3  2021-08-21 20:53:42+00:00  ...    popular        1\n",
              "4           4  2021-08-21 18:52:58+00:00  ...    popular        1\n",
              "\n",
              "[5 rows x 7 columns]"
            ]
          },
          "metadata": {},
          "execution_count": 41
        }
      ]
    },
    {
      "cell_type": "code",
      "metadata": {
        "id": "QB2t3xSJKecn"
      },
      "source": [
        "import numpy as np"
      ],
      "execution_count": 42,
      "outputs": []
    },
    {
      "cell_type": "code",
      "metadata": {
        "colab": {
          "base_uri": "https://localhost:8080/"
        },
        "id": "6GrLztDeKegk",
        "outputId": "a8ab5073-0ce3-405f-e7cc-37c28f6fe59c"
      },
      "source": [
        "print('Average word length of questions in dataset is {0:.0f}.'.format(np.mean(df['title'].apply(lambda x: len(x.split())))))\n",
        "print('Max word length of questions in dataset is {0:.0f}.'.format(np.max(df['title'].apply(lambda x: len(x.split())))))"
      ],
      "execution_count": 43,
      "outputs": [
        {
          "output_type": "stream",
          "name": "stdout",
          "text": [
            "Average word length of questions in dataset is 14.\n",
            "Max word length of questions in dataset is 66.\n"
          ]
        }
      ]
    },
    {
      "cell_type": "code",
      "metadata": {
        "id": "N9hbCEdjRona"
      },
      "source": [
        "from sklearn.model_selection import train_test_split\n",
        "\n",
        "X_train, X_test, y_train, y_test = train_test_split(df['title'],df['popular'],test_size=0.2)"
      ],
      "execution_count": 44,
      "outputs": []
    },
    {
      "cell_type": "code",
      "metadata": {
        "id": "ZjAeKUFcbfyO"
      },
      "source": [
        "bert_preprocess = hub.KerasLayer(\"https://tfhub.dev/tensorflow/bert_en_uncased_preprocess/3\")\n",
        "bert_encoder = hub.KerasLayer(\"https://tfhub.dev/tensorflow/bert_en_uncased_L-12_H-768_A-12/4\")"
      ],
      "execution_count": 45,
      "outputs": []
    },
    {
      "cell_type": "code",
      "metadata": {
        "id": "dVM7Gg-3bf2H"
      },
      "source": [
        "def get_sentence_embeding(sentences):\n",
        "    preprocessed_text = bert_preprocess(sentences)\n",
        "    return bert_encoder(preprocessed_text)['pooled_output']"
      ],
      "execution_count": 46,
      "outputs": []
    },
    {
      "cell_type": "code",
      "metadata": {
        "id": "638bCFOsbf5P"
      },
      "source": [
        "e = get_sentence_embeding([\n",
        "    \"banana\", \n",
        "    \"grapes\",\n",
        "    \"mango\",\n",
        "    \"jeff bezos\",\n",
        "    \"elon musk\",\n",
        "    \"bill gates\"\n",
        "]\n",
        ")"
      ],
      "execution_count": 47,
      "outputs": []
    },
    {
      "cell_type": "code",
      "metadata": {
        "colab": {
          "base_uri": "https://localhost:8080/"
        },
        "id": "nh4qhR1bcBi_",
        "outputId": "0e838317-a655-4611-c0d3-70b41f129944"
      },
      "source": [
        "from sklearn.metrics.pairwise import cosine_similarity\n",
        "cosine_similarity([e[0]],[e[1]])"
      ],
      "execution_count": 48,
      "outputs": [
        {
          "output_type": "execute_result",
          "data": {
            "text/plain": [
              "array([[0.9911088]], dtype=float32)"
            ]
          },
          "metadata": {},
          "execution_count": 48
        }
      ]
    },
    {
      "cell_type": "code",
      "metadata": {
        "colab": {
          "base_uri": "https://localhost:8080/"
        },
        "id": "3YgvwWxkcBns",
        "outputId": "195ed37c-7e02-4ebc-adbe-61dfff1be88c"
      },
      "source": [
        "cosine_similarity([e[0]],[e[3]])"
      ],
      "execution_count": 49,
      "outputs": [
        {
          "output_type": "execute_result",
          "data": {
            "text/plain": [
              "array([[0.84703827]], dtype=float32)"
            ]
          },
          "metadata": {},
          "execution_count": 49
        }
      ]
    },
    {
      "cell_type": "code",
      "metadata": {
        "colab": {
          "base_uri": "https://localhost:8080/"
        },
        "id": "NHzMQGhccBq3",
        "outputId": "65d8e933-e7df-4bce-ee04-18499b292bce"
      },
      "source": [
        "cosine_similarity([e[3]],[e[4]])"
      ],
      "execution_count": 50,
      "outputs": [
        {
          "output_type": "execute_result",
          "data": {
            "text/plain": [
              "array([[0.98720336]], dtype=float32)"
            ]
          },
          "metadata": {},
          "execution_count": 50
        }
      ]
    },
    {
      "cell_type": "code",
      "metadata": {
        "id": "XVDYNbIBcBuo"
      },
      "source": [
        "# Bert layers\n",
        "text_input = tf.keras.layers.Input(shape=(), dtype=tf.string, name='text')\n",
        "preprocessed_text = bert_preprocess(text_input)\n",
        "outputs = bert_encoder(preprocessed_text)\n",
        "\n",
        "# Neural network layers\n",
        "l = tf.keras.layers.Dropout(0.1, name=\"dropout\")(outputs['pooled_output'])\n",
        "l = tf.keras.layers.Dense(1, activation='sigmoid', name=\"output\")(l)\n",
        "\n",
        "# Use inputs and outputs to construct a final model\n",
        "model = tf.keras.Model(inputs=[text_input], outputs = [l])"
      ],
      "execution_count": 51,
      "outputs": []
    },
    {
      "cell_type": "code",
      "metadata": {
        "colab": {
          "base_uri": "https://localhost:8080/"
        },
        "id": "EiqoOyozbf8W",
        "outputId": "28feabca-4253-495b-8670-745ed2cef54a"
      },
      "source": [
        "model.summary()"
      ],
      "execution_count": 52,
      "outputs": [
        {
          "output_type": "stream",
          "name": "stdout",
          "text": [
            "Model: \"model_1\"\n",
            "__________________________________________________________________________________________________\n",
            "Layer (type)                    Output Shape         Param #     Connected to                     \n",
            "==================================================================================================\n",
            "text (InputLayer)               [(None,)]            0                                            \n",
            "__________________________________________________________________________________________________\n",
            "keras_layer_2 (KerasLayer)      {'input_mask': (None 0           text[0][0]                       \n",
            "__________________________________________________________________________________________________\n",
            "keras_layer_3 (KerasLayer)      {'sequence_output':  109482241   keras_layer_2[0][0]              \n",
            "                                                                 keras_layer_2[0][1]              \n",
            "                                                                 keras_layer_2[0][2]              \n",
            "__________________________________________________________________________________________________\n",
            "dropout (Dropout)               (None, 768)          0           keras_layer_3[0][13]             \n",
            "__________________________________________________________________________________________________\n",
            "output (Dense)                  (None, 1)            769         dropout[0][0]                    \n",
            "==================================================================================================\n",
            "Total params: 109,483,010\n",
            "Trainable params: 769\n",
            "Non-trainable params: 109,482,241\n",
            "__________________________________________________________________________________________________\n"
          ]
        }
      ]
    },
    {
      "cell_type": "code",
      "metadata": {
        "colab": {
          "base_uri": "https://localhost:8080/",
          "height": 283
        },
        "id": "tnLRKSlJjt1C",
        "outputId": "30f1fa6e-c949-4769-ca23-a49fb79fef06"
      },
      "source": [
        "tf.keras.utils.plot_model(model=model, show_shapes=True, dpi=76)"
      ],
      "execution_count": 53,
      "outputs": [
        {
          "output_type": "execute_result",
          "data": {
            "image/png": "[encoded data removed]",
            "text/plain": [
              "<IPython.core.display.Image object>"
            ]
          },
          "metadata": {},
          "execution_count": 53
        }
      ]
    },
    {
      "cell_type": "code",
      "metadata": {
        "id": "2aFSmhBKcbaA"
      },
      "source": [
        "METRICS = [\n",
        "      tf.keras.metrics.BinaryAccuracy(name='accuracy'),\n",
        "      tf.keras.metrics.Precision(name='precision'),\n",
        "      tf.keras.metrics.Recall(name='recall'),\n",
        "      tf.keras.metrics.PrecisionAtRecall(0.5, name='F1')\n",
        "]\n",
        "\n",
        "\n",
        "model.compile('adam',\n",
        "              loss='binary_crossentropy',\n",
        "              metrics=METRICS)"
      ],
      "execution_count": 54,
      "outputs": []
    },
    {
      "cell_type": "code",
      "metadata": {
        "colab": {
          "base_uri": "https://localhost:8080/"
        },
        "id": "hjJwOQCjcbcw",
        "outputId": "61aae6bf-deed-4f60-8405-5299c881b88e"
      },
      "source": [
        "model.fit(X_train, y_train, epochs=10)"
      ],
      "execution_count": 55,
      "outputs": [
        {
          "output_type": "stream",
          "name": "stdout",
          "text": [
            "Epoch 1/10\n",
            "500/500 [==============================] - 118s 215ms/step - loss: 0.7058 - accuracy: 0.5207 - precision: 0.5188 - recall: 0.5085 - F1: 0.5181\n",
            "Epoch 2/10\n",
            "500/500 [==============================] - 107s 214ms/step - loss: 0.6875 - accuracy: 0.5505 - precision: 0.5484 - recall: 0.5481 - F1: 0.5500\n",
            "Epoch 3/10\n",
            "500/500 [==============================] - 106s 212ms/step - loss: 0.6764 - accuracy: 0.5697 - precision: 0.5677 - recall: 0.5675 - F1: 0.5733\n",
            "Epoch 4/10\n",
            "500/500 [==============================] - 106s 212ms/step - loss: 0.6728 - accuracy: 0.5717 - precision: 0.5691 - recall: 0.5740 - F1: 0.5765\n",
            "Epoch 5/10\n",
            "500/500 [==============================] - 106s 212ms/step - loss: 0.6671 - accuracy: 0.5848 - precision: 0.5815 - recall: 0.5907 - F1: 0.5888\n",
            "Epoch 6/10\n",
            "500/500 [==============================] - 106s 212ms/step - loss: 0.6628 - accuracy: 0.5895 - precision: 0.5861 - recall: 0.5957 - F1: 0.6011\n",
            "Epoch 7/10\n",
            "500/500 [==============================] - 106s 213ms/step - loss: 0.6590 - accuracy: 0.5965 - precision: 0.5940 - recall: 0.5976 - F1: 0.6075\n",
            "Epoch 8/10\n",
            "500/500 [==============================] - 106s 212ms/step - loss: 0.6623 - accuracy: 0.5985 - precision: 0.5950 - recall: 0.6049 - F1: 0.6019\n",
            "Epoch 9/10\n",
            "500/500 [==============================] - 106s 212ms/step - loss: 0.6601 - accuracy: 0.5993 - precision: 0.5950 - recall: 0.6097 - F1: 0.6108\n",
            "Epoch 10/10\n",
            "500/500 [==============================] - 106s 212ms/step - loss: 0.6583 - accuracy: 0.5985 - precision: 0.5944 - recall: 0.6080 - F1: 0.6057\n"
          ]
        },
        {
          "output_type": "execute_result",
          "data": {
            "text/plain": [
              "<keras.callbacks.History at 0x7fdc37eb5ad0>"
            ]
          },
          "metadata": {},
          "execution_count": 55
        }
      ]
    },
    {
      "cell_type": "code",
      "metadata": {
        "colab": {
          "base_uri": "https://localhost:8080/"
        },
        "id": "aNjNtlllcbgi",
        "outputId": "583e193d-f282-46fb-b4d4-1860de4b9b16"
      },
      "source": [
        "model.evaluate(X_test, y_test)"
      ],
      "execution_count": 56,
      "outputs": [
        {
          "output_type": "stream",
          "name": "stdout",
          "text": [
            "125/125 [==============================] - 28s 210ms/step - loss: 0.6416 - accuracy: 0.6308 - precision: 0.6076 - recall: 0.7772 - F1: 0.6467\n"
          ]
        },
        {
          "output_type": "execute_result",
          "data": {
            "text/plain": [
              "[0.6416219472885132,\n",
              " 0.6307500004768372,\n",
              " 0.607594907283783,\n",
              " 0.7772325873374939,\n",
              " 0.6466876864433289]"
            ]
          },
          "metadata": {},
          "execution_count": 56
        }
      ]
    },
    {
      "cell_type": "code",
      "metadata": {
        "id": "QHxIVzm9dnj9"
      },
      "source": [
        "y_predicted = model.predict(X_test)\n",
        "y_predicted = y_predicted.flatten()"
      ],
      "execution_count": 57,
      "outputs": []
    },
    {
      "cell_type": "code",
      "metadata": {
        "colab": {
          "base_uri": "https://localhost:8080/"
        },
        "id": "l9svJcG7dnoN",
        "outputId": "db914441-0cd6-42c2-e502-0a3876b1f759"
      },
      "source": [
        "import numpy as np\n",
        "\n",
        "y_predicted = np.where(y_predicted > 0.5, 1, 0)\n",
        "y_predicted"
      ],
      "execution_count": 58,
      "outputs": [
        {
          "output_type": "execute_result",
          "data": {
            "text/plain": [
              "array([0, 0, 0, ..., 0, 1, 1])"
            ]
          },
          "metadata": {},
          "execution_count": 58
        }
      ]
    },
    {
      "cell_type": "code",
      "metadata": {
        "colab": {
          "base_uri": "https://localhost:8080/"
        },
        "id": "SQSHFwX6dnrt",
        "outputId": "9d59dbec-d5b9-4be2-de4b-369955b5f533"
      },
      "source": [
        "from sklearn.metrics import confusion_matrix, classification_report\n",
        "\n",
        "confusion_matrix(y_test, y_predicted)"
      ],
      "execution_count": 59,
      "outputs": [
        {
          "output_type": "execute_result",
          "data": {
            "text/plain": [
              "array([[ 939, 1023],\n",
              "       [ 454, 1584]])"
            ]
          },
          "metadata": {},
          "execution_count": 59
        }
      ]
    },
    {
      "cell_type": "code",
      "metadata": {
        "colab": {
          "base_uri": "https://localhost:8080/"
        },
        "id": "iXP6ggbYd19H",
        "outputId": "03764acf-2dd6-4250-e4f5-726acf7cc54e"
      },
      "source": [
        "print(classification_report(y_test, y_predicted))"
      ],
      "execution_count": 60,
      "outputs": [
        {
          "output_type": "stream",
          "name": "stdout",
          "text": [
            "              precision    recall  f1-score   support\n",
            "\n",
            "           0       0.67      0.48      0.56      1962\n",
            "           1       0.61      0.78      0.68      2038\n",
            "\n",
            "    accuracy                           0.63      4000\n",
            "   macro avg       0.64      0.63      0.62      4000\n",
            "weighted avg       0.64      0.63      0.62      4000\n",
            "\n"
          ]
        }
      ]
    },
    {
      "cell_type": "code",
      "metadata": {
        "colab": {
          "base_uri": "https://localhost:8080/"
        },
        "id": "CyCyrENSd1_8",
        "outputId": "0b3727f9-b372-4ec8-ccaa-a48732bc0865"
      },
      "source": [
        "questions = [\n",
        "    'You can choose one species to go extinct, what that would be?',\n",
        "    'What are some tips and tricks for young adults living alone for the first time?',\n",
        "]\n",
        "model.predict(questions)"
      ],
      "execution_count": 61,
      "outputs": [
        {
          "output_type": "execute_result",
          "data": {
            "text/plain": [
              "array([[0.39111048],\n",
              "       [0.3887503 ]], dtype=float32)"
            ]
          },
          "metadata": {},
          "execution_count": 61
        }
      ]
    }
  ]
}