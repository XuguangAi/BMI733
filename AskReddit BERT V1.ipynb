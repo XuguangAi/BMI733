{
  "nbformat": 4,
  "nbformat_minor": 0,
  "metadata": {
    "colab": {
      "name": "Final.ipynb",
      "provenance": [],
      "machine_shape": "hm",
      "authorship_tag": "ABX9TyMBiyJFaCfyAxJqi69vt+su",
      "include_colab_link": true
    },
    "kernelspec": {
      "name": "python3",
      "display_name": "Python 3"
    },
    "language_info": {
      "name": "python"
    },
    "accelerator": "GPU"
  },
  "cells": [
    {
      "cell_type": "markdown",
      "metadata": {
        "id": "view-in-github",
        "colab_type": "text"
      },
      "source": [
        "<a href=\"https://colab.research.google.com/github/XuguangAi/BMI733/blob/main/AskReddit%20BERT%20V1.ipynb\" target=\"_parent\"><img src=\"https://colab.research.google.com/assets/colab-badge.svg\" alt=\"Open In Colab\"/></a>"
      ]
    },
    {
      "cell_type": "code",
      "metadata": {
        "id": "FvJQeoqBJuJj"
      },
      "source": [
        "!pip install -q -U tensorflow-text"
      ],
      "execution_count": 4,
      "outputs": []
    },
    {
      "cell_type": "code",
      "metadata": {
        "id": "pjle9mhpKMRn"
      },
      "source": [
        "import tensorflow as tf\n",
        "import tensorflow_hub as hub\n",
        "import tensorflow_text as text"
      ],
      "execution_count": 5,
      "outputs": []
    },
    {
      "cell_type": "code",
      "metadata": {
        "colab": {
          "base_uri": "https://localhost:8080/",
          "height": 204
        },
        "id": "u-nMZo2xKMVC",
        "outputId": "423b6734-75f5-4141-8af9-c6603e925424"
      },
      "source": [
        "import pandas as pd\n",
        "\n",
        "df = pd.read_csv(\"Reddit_balanced.csv\")\n",
        "df.head(5)"
      ],
      "execution_count": 6,
      "outputs": [
        {
          "output_type": "execute_result",
          "data": {
            "text/html": [
              "<div>\n",
              "<style scoped>\n",
              "    .dataframe tbody tr th:only-of-type {\n",
              "        vertical-align: middle;\n",
              "    }\n",
              "\n",
              "    .dataframe tbody tr th {\n",
              "        vertical-align: top;\n",
              "    }\n",
              "\n",
              "    .dataframe thead th {\n",
              "        text-align: right;\n",
              "    }\n",
              "</style>\n",
              "<table border=\"1\" class=\"dataframe\">\n",
              "  <thead>\n",
              "    <tr style=\"text-align: right;\">\n",
              "      <th></th>\n",
              "      <th>Unnamed: 0</th>\n",
              "      <th>date</th>\n",
              "      <th>title</th>\n",
              "      <th>score</th>\n",
              "      <th>over_18</th>\n",
              "      <th>popularity</th>\n",
              "    </tr>\n",
              "  </thead>\n",
              "  <tbody>\n",
              "    <tr>\n",
              "      <th>0</th>\n",
              "      <td>0</td>\n",
              "      <td>2021-09-23 00:52:22+00:00</td>\n",
              "      <td>Americans that defend the confederate flag, why?</td>\n",
              "      <td>185</td>\n",
              "      <td>True</td>\n",
              "      <td>popular</td>\n",
              "    </tr>\n",
              "    <tr>\n",
              "      <th>1</th>\n",
              "      <td>1</td>\n",
              "      <td>2021-09-22 22:16:54+00:00</td>\n",
              "      <td>If God gave you the power to erase one thing f...</td>\n",
              "      <td>379</td>\n",
              "      <td>False</td>\n",
              "      <td>popular</td>\n",
              "    </tr>\n",
              "    <tr>\n",
              "      <th>2</th>\n",
              "      <td>2</td>\n",
              "      <td>2021-08-21 20:57:49+00:00</td>\n",
              "      <td>Porn addicts,how did you end up being addicted...</td>\n",
              "      <td>119</td>\n",
              "      <td>True</td>\n",
              "      <td>popular</td>\n",
              "    </tr>\n",
              "    <tr>\n",
              "      <th>3</th>\n",
              "      <td>3</td>\n",
              "      <td>2021-08-21 20:53:42+00:00</td>\n",
              "      <td>At your funeral, you can yell out one thing be...</td>\n",
              "      <td>101</td>\n",
              "      <td>False</td>\n",
              "      <td>popular</td>\n",
              "    </tr>\n",
              "    <tr>\n",
              "      <th>4</th>\n",
              "      <td>4</td>\n",
              "      <td>2021-08-21 18:52:58+00:00</td>\n",
              "      <td>Without telling your age, how old are you?</td>\n",
              "      <td>240</td>\n",
              "      <td>False</td>\n",
              "      <td>popular</td>\n",
              "    </tr>\n",
              "  </tbody>\n",
              "</table>\n",
              "</div>"
            ],
            "text/plain": [
              "   Unnamed: 0                       date  ... over_18  popularity\n",
              "0           0  2021-09-23 00:52:22+00:00  ...    True     popular\n",
              "1           1  2021-09-22 22:16:54+00:00  ...   False     popular\n",
              "2           2  2021-08-21 20:57:49+00:00  ...    True     popular\n",
              "3           3  2021-08-21 20:53:42+00:00  ...   False     popular\n",
              "4           4  2021-08-21 18:52:58+00:00  ...   False     popular\n",
              "\n",
              "[5 rows x 6 columns]"
            ]
          },
          "metadata": {},
          "execution_count": 6
        }
      ]
    },
    {
      "cell_type": "code",
      "metadata": {
        "colab": {
          "base_uri": "https://localhost:8080/"
        },
        "id": "mdxZubsgKMYA",
        "outputId": "f36dc65c-00be-465d-aacd-90cb3f6778d5"
      },
      "source": [
        "df['popularity'].value_counts()"
      ],
      "execution_count": 7,
      "outputs": [
        {
          "output_type": "execute_result",
          "data": {
            "text/plain": [
              "unpopular    9999\n",
              "popular      9998\n",
              "Name: popularity, dtype: int64"
            ]
          },
          "metadata": {},
          "execution_count": 7
        }
      ]
    },
    {
      "cell_type": "code",
      "metadata": {
        "colab": {
          "base_uri": "https://localhost:8080/",
          "height": 204
        },
        "id": "uoW_LURwKMa3",
        "outputId": "1c340a56-30c9-4348-a28f-02fcb2e0440f"
      },
      "source": [
        "df['popular']=df['popularity'].apply(lambda x: 1 if x=='popular' else 0)\n",
        "df.head(5)"
      ],
      "execution_count": 8,
      "outputs": [
        {
          "output_type": "execute_result",
          "data": {
            "text/html": [
              "<div>\n",
              "<style scoped>\n",
              "    .dataframe tbody tr th:only-of-type {\n",
              "        vertical-align: middle;\n",
              "    }\n",
              "\n",
              "    .dataframe tbody tr th {\n",
              "        vertical-align: top;\n",
              "    }\n",
              "\n",
              "    .dataframe thead th {\n",
              "        text-align: right;\n",
              "    }\n",
              "</style>\n",
              "<table border=\"1\" class=\"dataframe\">\n",
              "  <thead>\n",
              "    <tr style=\"text-align: right;\">\n",
              "      <th></th>\n",
              "      <th>Unnamed: 0</th>\n",
              "      <th>date</th>\n",
              "      <th>title</th>\n",
              "      <th>score</th>\n",
              "      <th>over_18</th>\n",
              "      <th>popularity</th>\n",
              "      <th>popular</th>\n",
              "    </tr>\n",
              "  </thead>\n",
              "  <tbody>\n",
              "    <tr>\n",
              "      <th>0</th>\n",
              "      <td>0</td>\n",
              "      <td>2021-09-23 00:52:22+00:00</td>\n",
              "      <td>Americans that defend the confederate flag, why?</td>\n",
              "      <td>185</td>\n",
              "      <td>True</td>\n",
              "      <td>popular</td>\n",
              "      <td>1</td>\n",
              "    </tr>\n",
              "    <tr>\n",
              "      <th>1</th>\n",
              "      <td>1</td>\n",
              "      <td>2021-09-22 22:16:54+00:00</td>\n",
              "      <td>If God gave you the power to erase one thing f...</td>\n",
              "      <td>379</td>\n",
              "      <td>False</td>\n",
              "      <td>popular</td>\n",
              "      <td>1</td>\n",
              "    </tr>\n",
              "    <tr>\n",
              "      <th>2</th>\n",
              "      <td>2</td>\n",
              "      <td>2021-08-21 20:57:49+00:00</td>\n",
              "      <td>Porn addicts,how did you end up being addicted...</td>\n",
              "      <td>119</td>\n",
              "      <td>True</td>\n",
              "      <td>popular</td>\n",
              "      <td>1</td>\n",
              "    </tr>\n",
              "    <tr>\n",
              "      <th>3</th>\n",
              "      <td>3</td>\n",
              "      <td>2021-08-21 20:53:42+00:00</td>\n",
              "      <td>At your funeral, you can yell out one thing be...</td>\n",
              "      <td>101</td>\n",
              "      <td>False</td>\n",
              "      <td>popular</td>\n",
              "      <td>1</td>\n",
              "    </tr>\n",
              "    <tr>\n",
              "      <th>4</th>\n",
              "      <td>4</td>\n",
              "      <td>2021-08-21 18:52:58+00:00</td>\n",
              "      <td>Without telling your age, how old are you?</td>\n",
              "      <td>240</td>\n",
              "      <td>False</td>\n",
              "      <td>popular</td>\n",
              "      <td>1</td>\n",
              "    </tr>\n",
              "  </tbody>\n",
              "</table>\n",
              "</div>"
            ],
            "text/plain": [
              "   Unnamed: 0                       date  ... popularity  popular\n",
              "0           0  2021-09-23 00:52:22+00:00  ...    popular        1\n",
              "1           1  2021-09-22 22:16:54+00:00  ...    popular        1\n",
              "2           2  2021-08-21 20:57:49+00:00  ...    popular        1\n",
              "3           3  2021-08-21 20:53:42+00:00  ...    popular        1\n",
              "4           4  2021-08-21 18:52:58+00:00  ...    popular        1\n",
              "\n",
              "[5 rows x 7 columns]"
            ]
          },
          "metadata": {},
          "execution_count": 8
        }
      ]
    },
    {
      "cell_type": "code",
      "metadata": {
        "id": "QB2t3xSJKecn"
      },
      "source": [
        "import numpy as np"
      ],
      "execution_count": 9,
      "outputs": []
    },
    {
      "cell_type": "code",
      "metadata": {
        "colab": {
          "base_uri": "https://localhost:8080/"
        },
        "id": "6GrLztDeKegk",
        "outputId": "c17a1ec8-db69-4b02-b7b2-15a012351cb2"
      },
      "source": [
        "print('Average word length of questions in dataset is {0:.0f}.'.format(np.mean(df['title'].apply(lambda x: len(x.split())))))\n",
        "print('Max word length of questions in dataset is {0:.0f}.'.format(np.max(df['title'].apply(lambda x: len(x.split())))))"
      ],
      "execution_count": 10,
      "outputs": [
        {
          "output_type": "stream",
          "name": "stdout",
          "text": [
            "Average word length of questions in dataset is 14.\n",
            "Max word length of questions in dataset is 66.\n"
          ]
        }
      ]
    },
    {
      "cell_type": "code",
      "metadata": {
        "id": "N9hbCEdjRona"
      },
      "source": [
        "from sklearn.model_selection import train_test_split\n",
        "\n",
        "X_train, X_test, y_train, y_test = train_test_split(df['title'],df['popular'])"
      ],
      "execution_count": 11,
      "outputs": []
    },
    {
      "cell_type": "code",
      "metadata": {
        "id": "ZjAeKUFcbfyO"
      },
      "source": [
        "bert_preprocess = hub.KerasLayer(\"https://tfhub.dev/tensorflow/bert_en_uncased_preprocess/3\")\n",
        "bert_encoder = hub.KerasLayer(\"https://tfhub.dev/tensorflow/bert_en_uncased_L-12_H-768_A-12/4\")"
      ],
      "execution_count": 12,
      "outputs": []
    },
    {
      "cell_type": "code",
      "metadata": {
        "id": "dVM7Gg-3bf2H"
      },
      "source": [
        "def get_sentence_embeding(sentences):\n",
        "    preprocessed_text = bert_preprocess(sentences)\n",
        "    return bert_encoder(preprocessed_text)['pooled_output']"
      ],
      "execution_count": 13,
      "outputs": []
    },
    {
      "cell_type": "code",
      "metadata": {
        "id": "638bCFOsbf5P"
      },
      "source": [
        "e = get_sentence_embeding([\n",
        "    \"banana\", \n",
        "    \"grapes\",\n",
        "    \"mango\",\n",
        "    \"jeff bezos\",\n",
        "    \"elon musk\",\n",
        "    \"bill gates\"\n",
        "]\n",
        ")"
      ],
      "execution_count": 14,
      "outputs": []
    },
    {
      "cell_type": "code",
      "metadata": {
        "colab": {
          "base_uri": "https://localhost:8080/"
        },
        "id": "nh4qhR1bcBi_",
        "outputId": "70bdbaa3-9856-4e36-c84c-3ed3981edff5"
      },
      "source": [
        "from sklearn.metrics.pairwise import cosine_similarity\n",
        "cosine_similarity([e[0]],[e[1]])"
      ],
      "execution_count": 15,
      "outputs": [
        {
          "output_type": "execute_result",
          "data": {
            "text/plain": [
              "array([[0.9911088]], dtype=float32)"
            ]
          },
          "metadata": {},
          "execution_count": 15
        }
      ]
    },
    {
      "cell_type": "code",
      "metadata": {
        "colab": {
          "base_uri": "https://localhost:8080/"
        },
        "id": "3YgvwWxkcBns",
        "outputId": "b2959f2d-1295-4ef9-b605-e6b317ff423f"
      },
      "source": [
        "cosine_similarity([e[0]],[e[3]])"
      ],
      "execution_count": 16,
      "outputs": [
        {
          "output_type": "execute_result",
          "data": {
            "text/plain": [
              "array([[0.84703827]], dtype=float32)"
            ]
          },
          "metadata": {},
          "execution_count": 16
        }
      ]
    },
    {
      "cell_type": "code",
      "metadata": {
        "colab": {
          "base_uri": "https://localhost:8080/"
        },
        "id": "NHzMQGhccBq3",
        "outputId": "2f802e6d-0a88-426e-d1fb-003c21775fb4"
      },
      "source": [
        "cosine_similarity([e[3]],[e[4]])"
      ],
      "execution_count": 17,
      "outputs": [
        {
          "output_type": "execute_result",
          "data": {
            "text/plain": [
              "array([[0.98720336]], dtype=float32)"
            ]
          },
          "metadata": {},
          "execution_count": 17
        }
      ]
    },
    {
      "cell_type": "code",
      "metadata": {
        "id": "XVDYNbIBcBuo"
      },
      "source": [
        "# Bert layers\n",
        "text_input = tf.keras.layers.Input(shape=(), dtype=tf.string, name='text')\n",
        "preprocessed_text = bert_preprocess(text_input)\n",
        "outputs = bert_encoder(preprocessed_text)\n",
        "\n",
        "# Neural network layers\n",
        "l = tf.keras.layers.Dropout(0.1, name=\"dropout\")(outputs['pooled_output'])\n",
        "l = tf.keras.layers.Dense(1, activation='sigmoid', name=\"output\")(l)\n",
        "\n",
        "# Use inputs and outputs to construct a final model\n",
        "model = tf.keras.Model(inputs=[text_input], outputs = [l])"
      ],
      "execution_count": 18,
      "outputs": []
    },
    {
      "cell_type": "code",
      "metadata": {
        "colab": {
          "base_uri": "https://localhost:8080/"
        },
        "id": "EiqoOyozbf8W",
        "outputId": "d88b5e01-104b-45ea-8093-bfb34f569427"
      },
      "source": [
        "model.summary()"
      ],
      "execution_count": 19,
      "outputs": [
        {
          "output_type": "stream",
          "name": "stdout",
          "text": [
            "Model: \"model\"\n",
            "__________________________________________________________________________________________________\n",
            "Layer (type)                    Output Shape         Param #     Connected to                     \n",
            "==================================================================================================\n",
            "text (InputLayer)               [(None,)]            0                                            \n",
            "__________________________________________________________________________________________________\n",
            "keras_layer (KerasLayer)        {'input_mask': (None 0           text[0][0]                       \n",
            "__________________________________________________________________________________________________\n",
            "keras_layer_1 (KerasLayer)      {'sequence_output':  109482241   keras_layer[0][0]                \n",
            "                                                                 keras_layer[0][1]                \n",
            "                                                                 keras_layer[0][2]                \n",
            "__________________________________________________________________________________________________\n",
            "dropout (Dropout)               (None, 768)          0           keras_layer_1[0][13]             \n",
            "__________________________________________________________________________________________________\n",
            "output (Dense)                  (None, 1)            769         dropout[0][0]                    \n",
            "==================================================================================================\n",
            "Total params: 109,483,010\n",
            "Trainable params: 769\n",
            "Non-trainable params: 109,482,241\n",
            "__________________________________________________________________________________________________\n"
          ]
        }
      ]
    },
    {
      "cell_type": "code",
      "metadata": {
        "id": "2aFSmhBKcbaA"
      },
      "source": [
        "METRICS = [\n",
        "      tf.keras.metrics.BinaryAccuracy(name='accuracy'),\n",
        "      tf.keras.metrics.Precision(name='precision'),\n",
        "      tf.keras.metrics.Recall(name='recall'),\n",
        "      tf.keras.metrics.PrecisionAtRecall(0.5, name='F1')\n",
        "]\n",
        "\n",
        "\n",
        "model.compile('adam',\n",
        "              loss='binary_crossentropy',\n",
        "              metrics=METRICS)"
      ],
      "execution_count": 20,
      "outputs": []
    },
    {
      "cell_type": "code",
      "metadata": {
        "colab": {
          "base_uri": "https://localhost:8080/"
        },
        "id": "hjJwOQCjcbcw",
        "outputId": "6b45316f-5e7f-4670-fdf8-9c8b48f92899"
      },
      "source": [
        "model.fit(X_train, y_train, epochs=10)"
      ],
      "execution_count": 21,
      "outputs": [
        {
          "output_type": "stream",
          "name": "stdout",
          "text": [
            "Epoch 1/10\n",
            "469/469 [==============================] - 112s 217ms/step - loss: 0.7067 - accuracy: 0.5188 - precision: 0.5208 - recall: 0.5366 - F1: 0.5222\n",
            "Epoch 2/10\n",
            "469/469 [==============================] - 101s 216ms/step - loss: 0.6879 - accuracy: 0.5512 - precision: 0.5525 - recall: 0.5649 - F1: 0.5566\n",
            "Epoch 3/10\n",
            "469/469 [==============================] - 100s 214ms/step - loss: 0.6792 - accuracy: 0.5688 - precision: 0.5696 - recall: 0.5825 - F1: 0.5786\n",
            "Epoch 4/10\n",
            "469/469 [==============================] - 100s 213ms/step - loss: 0.6724 - accuracy: 0.5773 - precision: 0.5777 - recall: 0.5922 - F1: 0.5858\n",
            "Epoch 5/10\n",
            "469/469 [==============================] - 100s 214ms/step - loss: 0.6720 - accuracy: 0.5791 - precision: 0.5788 - recall: 0.5984 - F1: 0.5890\n",
            "Epoch 6/10\n",
            "469/469 [==============================] - 100s 214ms/step - loss: 0.6638 - accuracy: 0.5965 - precision: 0.5955 - recall: 0.6159 - F1: 0.6112\n",
            "Epoch 7/10\n",
            "469/469 [==============================] - 100s 213ms/step - loss: 0.6640 - accuracy: 0.5919 - precision: 0.5907 - recall: 0.6135 - F1: 0.6088\n",
            "Epoch 8/10\n",
            "469/469 [==============================] - 100s 213ms/step - loss: 0.6599 - accuracy: 0.5983 - precision: 0.5974 - recall: 0.6168 - F1: 0.6080\n",
            "Epoch 9/10\n",
            "469/469 [==============================] - 100s 213ms/step - loss: 0.6608 - accuracy: 0.5972 - precision: 0.5961 - recall: 0.6164 - F1: 0.6045\n",
            "Epoch 10/10\n",
            "469/469 [==============================] - 100s 212ms/step - loss: 0.6591 - accuracy: 0.6011 - precision: 0.5982 - recall: 0.6289 - F1: 0.6104\n"
          ]
        },
        {
          "output_type": "execute_result",
          "data": {
            "text/plain": [
              "<keras.callbacks.History at 0x7fdc62d254d0>"
            ]
          },
          "metadata": {},
          "execution_count": 21
        }
      ]
    },
    {
      "cell_type": "code",
      "metadata": {
        "id": "aNjNtlllcbgi"
      },
      "source": [
        "model.evaluate(X_test, y_test)"
      ],
      "execution_count": 21,
      "outputs": []
    },
    {
      "cell_type": "code",
      "metadata": {
        "id": "QHxIVzm9dnj9"
      },
      "source": [
        "y_predicted = model.predict(X_test)\n",
        "y_predicted = y_predicted.flatten()"
      ],
      "execution_count": 22,
      "outputs": []
    },
    {
      "cell_type": "code",
      "metadata": {
        "colab": {
          "base_uri": "https://localhost:8080/"
        },
        "id": "l9svJcG7dnoN",
        "outputId": "3565becd-8fa3-44e5-f56e-bf29a77896a7"
      },
      "source": [
        "import numpy as np\n",
        "\n",
        "y_predicted = np.where(y_predicted > 0.5, 1, 0)\n",
        "y_predicted"
      ],
      "execution_count": 23,
      "outputs": [
        {
          "output_type": "execute_result",
          "data": {
            "text/plain": [
              "array([1, 0, 0, ..., 1, 1, 0])"
            ]
          },
          "metadata": {},
          "execution_count": 23
        }
      ]
    },
    {
      "cell_type": "code",
      "metadata": {
        "colab": {
          "base_uri": "https://localhost:8080/"
        },
        "id": "SQSHFwX6dnrt",
        "outputId": "492b7c5e-d8bf-4ca3-c024-cc31281e6156"
      },
      "source": [
        "from sklearn.metrics import confusion_matrix, classification_report\n",
        "\n",
        "confusion_matrix(y_test, y_predicted)"
      ],
      "execution_count": 24,
      "outputs": [
        {
          "output_type": "execute_result",
          "data": {
            "text/plain": [
              "array([[1426, 1116],\n",
              "       [ 811, 1647]])"
            ]
          },
          "metadata": {},
          "execution_count": 24
        }
      ]
    },
    {
      "cell_type": "code",
      "metadata": {
        "colab": {
          "base_uri": "https://localhost:8080/"
        },
        "id": "iXP6ggbYd19H",
        "outputId": "ae050155-d34f-40ec-e4e5-22ace1c9f3bf"
      },
      "source": [
        "print(classification_report(y_test, y_predicted))"
      ],
      "execution_count": 25,
      "outputs": [
        {
          "output_type": "stream",
          "name": "stdout",
          "text": [
            "              precision    recall  f1-score   support\n",
            "\n",
            "           0       0.64      0.56      0.60      2542\n",
            "           1       0.60      0.67      0.63      2458\n",
            "\n",
            "    accuracy                           0.61      5000\n",
            "   macro avg       0.62      0.62      0.61      5000\n",
            "weighted avg       0.62      0.61      0.61      5000\n",
            "\n"
          ]
        }
      ]
    },
    {
      "cell_type": "code",
      "metadata": {
        "colab": {
          "base_uri": "https://localhost:8080/"
        },
        "id": "CyCyrENSd1_8",
        "outputId": "41e3f5ae-bf0b-4b60-8688-4b64fa35b283"
      },
      "source": [
        "questions = [\n",
        "    'You can choose one species to go extinct, what that would be?',\n",
        "    'What are some tips and tricks for young adults living alone for the first time?',\n",
        "]\n",
        "model.predict(questions)"
      ],
      "execution_count": 30,
      "outputs": [
        {
          "output_type": "execute_result",
          "data": {
            "text/plain": [
              "array([[0.36311436],\n",
              "       [0.35510084]], dtype=float32)"
            ]
          },
          "metadata": {},
          "execution_count": 30
        }
      ]
    }
  ]
}