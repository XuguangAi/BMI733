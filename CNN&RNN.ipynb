{
  "metadata": {
    "kernelspec": {
      "language": "python",
      "display_name": "Python 3",
      "name": "python3"
    },
    "language_info": {
      "pygments_lexer": "ipython3",
      "nbconvert_exporter": "python",
      "version": "3.6.4",
      "file_extension": ".py",
      "codemirror_mode": {
        "name": "ipython",
        "version": 3
      },
      "name": "python",
      "mimetype": "text/x-python"
    },
    "colab": {
      "name": "CNN&RNN.ipynb",
      "provenance": [],
      "collapsed_sections": [],
      "include_colab_link": true
    },
    "accelerator": "TPU"
  },
  "nbformat_minor": 0,
  "nbformat": 4,
  "cells": [
    {
      "cell_type": "markdown",
      "metadata": {
        "id": "view-in-github",
        "colab_type": "text"
      },
      "source": [
        "<a href=\"https://colab.research.google.com/github/XuguangAi/BMI733/blob/main/CNN%26RNN.ipynb\" target=\"_parent\"><img src=\"https://colab.research.google.com/assets/colab-badge.svg\" alt=\"Open In Colab\"/></a>"
      ]
    },
    {
      "cell_type": "code",
      "source": [
        "from google.colab import drive\n",
        "drive.mount('/content/drive')"
      ],
      "metadata": {
        "id": "KdpM8uPFi_0e"
      },
      "execution_count": null,
      "outputs": []
    },
    {
      "cell_type": "code",
      "source": [
        "!pip install tensorflow-addons"
      ],
      "metadata": {
        "id": "3Og4pC1xjBhK"
      },
      "execution_count": null,
      "outputs": []
    },
    {
      "cell_type": "code",
      "source": [
        "import os # setting working directory\n",
        "import numpy as np # for generating random embeddings\n",
        "import pandas as pd # importing a csv\n",
        "import random\n",
        "import spacy # basic text processing\n",
        "from tensorflow import keras\n",
        "from tensorflow.keras import backend as K\n",
        "from tensorflow.keras.callbacks import Callback\n",
        "from tensorflow.keras.preprocessing.sequence import pad_sequences\n",
        "import tensorflow as tf\n",
        "import tensorflow_addons as tfa\n",
        "from tensorflow_addons.metrics import F1Score\n",
        "import matplotlib.pyplot as plt\n",
        "from tensorflow.keras.models import Sequential\n",
        "from tensorflow.keras import layers\n",
        "plt.style.use('ggplot')\n",
        "from statistics import harmonic_mean\n",
        "import pickle\n",
        "from tensorflow.keras.layers import Embedding, LSTM, Conv1D, Bidirectional, Dense, Concatenate, GlobalMaxPooling1D, Dropout\n",
        "from sklearn.model_selection import train_test_split\n",
        "from sklearn.metrics import precision_recall_fscore_support\n",
        "import pickle"
      ],
      "metadata": {
        "id": "A5NLFkDjh_52"
      },
      "execution_count": 15,
      "outputs": []
    },
    {
      "cell_type": "code",
      "source": [
        "file_path='/content/dataset_CNN&RNN.zip'\n",
        "def unzip_data(file_path):\n",
        "  from zipfile import ZipFile\n",
        "  with ZipFile(file_path, \"r\") as zip:\n",
        "    zip.extractall()\n",
        "    return \"Data has been extracted\"\n",
        "\n",
        "unzip_data(file_path) "
      ],
      "metadata": {
        "colab": {
          "base_uri": "https://localhost:8080/",
          "height": 37
        },
        "id": "MYD7B1yNjcLq",
        "outputId": "4f75061f-c48f-4cd8-8bf1-b9c7aa96611b"
      },
      "execution_count": 16,
      "outputs": [
        {
          "output_type": "execute_result",
          "data": {
            "application/vnd.google.colaboratory.intrinsic+json": {
              "type": "string"
            },
            "text/plain": [
              "'Data has been extracted'"
            ]
          },
          "metadata": {},
          "execution_count": 16
        }
      ]
    },
    {
      "cell_type": "code",
      "source": [
        "dataset_dir = '/content/dataset'"
      ],
      "metadata": {
        "id": "2pZHNryIkgXe"
      },
      "execution_count": 17,
      "outputs": []
    },
    {
      "cell_type": "code",
      "source": [
        "# sets pseudorandom seeds\n",
        "random.seed(0)\n",
        "np.random.seed(0)\n",
        "tf.random.set_seed(0)    \n",
        "\n",
        "### TPU usage\n",
        "# detect and init the TPU\n",
        "tpu = tf.distribute.cluster_resolver.TPUClusterResolver.connect()\n",
        "\n",
        "# instantiate a distribution strategy\n",
        "tpu_strategy = tf.distribute.experimental.TPUStrategy(tpu)\n"
      ],
      "metadata": {
        "execution": {
          "iopub.status.busy": "2021-12-08T19:26:22.482Z",
          "iopub.execute_input": "2021-12-08T19:26:22.482331Z",
          "iopub.status.idle": "2021-12-08T19:26:28.19824Z",
          "shell.execute_reply.started": "2021-12-08T19:26:22.482286Z",
          "shell.execute_reply": "2021-12-08T19:26:28.197359Z"
        },
        "trusted": true,
        "colab": {
          "base_uri": "https://localhost:8080/"
        },
        "id": "VYzSk2zdhsfH",
        "outputId": "a31f6d83-7e78-40c3-d835-d16abfd1f49e"
      },
      "execution_count": 18,
      "outputs": [
        {
          "output_type": "stream",
          "name": "stdout",
          "text": [
            "INFO:tensorflow:Deallocate tpu buffers before initializing tpu system.\n"
          ]
        },
        {
          "output_type": "stream",
          "name": "stderr",
          "text": [
            "INFO:tensorflow:Deallocate tpu buffers before initializing tpu system.\n"
          ]
        },
        {
          "output_type": "stream",
          "name": "stdout",
          "text": [
            "WARNING:tensorflow:TPU system grpc://10.83.211.18:8470 has already been initialized. Reinitializing the TPU can cause previously created variables on TPU to be lost.\n"
          ]
        },
        {
          "output_type": "stream",
          "name": "stderr",
          "text": [
            "WARNING:tensorflow:TPU system grpc://10.83.211.18:8470 has already been initialized. Reinitializing the TPU can cause previously created variables on TPU to be lost.\n"
          ]
        },
        {
          "output_type": "stream",
          "name": "stdout",
          "text": [
            "INFO:tensorflow:Initializing the TPU system: grpc://10.83.211.18:8470\n"
          ]
        },
        {
          "output_type": "stream",
          "name": "stderr",
          "text": [
            "INFO:tensorflow:Initializing the TPU system: grpc://10.83.211.18:8470\n"
          ]
        },
        {
          "output_type": "stream",
          "name": "stdout",
          "text": [
            "INFO:tensorflow:Finished initializing TPU system.\n"
          ]
        },
        {
          "output_type": "stream",
          "name": "stderr",
          "text": [
            "INFO:tensorflow:Finished initializing TPU system.\n",
            "WARNING:absl:`tf.distribute.experimental.TPUStrategy` is deprecated, please use  the non experimental symbol `tf.distribute.TPUStrategy` instead.\n"
          ]
        },
        {
          "output_type": "stream",
          "name": "stdout",
          "text": [
            "INFO:tensorflow:Found TPU system:\n"
          ]
        },
        {
          "output_type": "stream",
          "name": "stderr",
          "text": [
            "INFO:tensorflow:Found TPU system:\n"
          ]
        },
        {
          "output_type": "stream",
          "name": "stdout",
          "text": [
            "INFO:tensorflow:*** Num TPU Cores: 8\n"
          ]
        },
        {
          "output_type": "stream",
          "name": "stderr",
          "text": [
            "INFO:tensorflow:*** Num TPU Cores: 8\n"
          ]
        },
        {
          "output_type": "stream",
          "name": "stdout",
          "text": [
            "INFO:tensorflow:*** Num TPU Workers: 1\n"
          ]
        },
        {
          "output_type": "stream",
          "name": "stderr",
          "text": [
            "INFO:tensorflow:*** Num TPU Workers: 1\n"
          ]
        },
        {
          "output_type": "stream",
          "name": "stdout",
          "text": [
            "INFO:tensorflow:*** Num TPU Cores Per Worker: 8\n"
          ]
        },
        {
          "output_type": "stream",
          "name": "stderr",
          "text": [
            "INFO:tensorflow:*** Num TPU Cores Per Worker: 8\n"
          ]
        },
        {
          "output_type": "stream",
          "name": "stdout",
          "text": [
            "INFO:tensorflow:*** Available Device: _DeviceAttributes(/job:localhost/replica:0/task:0/device:CPU:0, CPU, 0, 0)\n"
          ]
        },
        {
          "output_type": "stream",
          "name": "stderr",
          "text": [
            "INFO:tensorflow:*** Available Device: _DeviceAttributes(/job:localhost/replica:0/task:0/device:CPU:0, CPU, 0, 0)\n"
          ]
        },
        {
          "output_type": "stream",
          "name": "stdout",
          "text": [
            "INFO:tensorflow:*** Available Device: _DeviceAttributes(/job:worker/replica:0/task:0/device:CPU:0, CPU, 0, 0)\n"
          ]
        },
        {
          "output_type": "stream",
          "name": "stderr",
          "text": [
            "INFO:tensorflow:*** Available Device: _DeviceAttributes(/job:worker/replica:0/task:0/device:CPU:0, CPU, 0, 0)\n"
          ]
        },
        {
          "output_type": "stream",
          "name": "stdout",
          "text": [
            "INFO:tensorflow:*** Available Device: _DeviceAttributes(/job:worker/replica:0/task:0/device:TPU:0, TPU, 0, 0)\n"
          ]
        },
        {
          "output_type": "stream",
          "name": "stderr",
          "text": [
            "INFO:tensorflow:*** Available Device: _DeviceAttributes(/job:worker/replica:0/task:0/device:TPU:0, TPU, 0, 0)\n"
          ]
        },
        {
          "output_type": "stream",
          "name": "stdout",
          "text": [
            "INFO:tensorflow:*** Available Device: _DeviceAttributes(/job:worker/replica:0/task:0/device:TPU:1, TPU, 0, 0)\n"
          ]
        },
        {
          "output_type": "stream",
          "name": "stderr",
          "text": [
            "INFO:tensorflow:*** Available Device: _DeviceAttributes(/job:worker/replica:0/task:0/device:TPU:1, TPU, 0, 0)\n"
          ]
        },
        {
          "output_type": "stream",
          "name": "stdout",
          "text": [
            "INFO:tensorflow:*** Available Device: _DeviceAttributes(/job:worker/replica:0/task:0/device:TPU:2, TPU, 0, 0)\n"
          ]
        },
        {
          "output_type": "stream",
          "name": "stderr",
          "text": [
            "INFO:tensorflow:*** Available Device: _DeviceAttributes(/job:worker/replica:0/task:0/device:TPU:2, TPU, 0, 0)\n"
          ]
        },
        {
          "output_type": "stream",
          "name": "stdout",
          "text": [
            "INFO:tensorflow:*** Available Device: _DeviceAttributes(/job:worker/replica:0/task:0/device:TPU:3, TPU, 0, 0)\n"
          ]
        },
        {
          "output_type": "stream",
          "name": "stderr",
          "text": [
            "INFO:tensorflow:*** Available Device: _DeviceAttributes(/job:worker/replica:0/task:0/device:TPU:3, TPU, 0, 0)\n"
          ]
        },
        {
          "output_type": "stream",
          "name": "stdout",
          "text": [
            "INFO:tensorflow:*** Available Device: _DeviceAttributes(/job:worker/replica:0/task:0/device:TPU:4, TPU, 0, 0)\n"
          ]
        },
        {
          "output_type": "stream",
          "name": "stderr",
          "text": [
            "INFO:tensorflow:*** Available Device: _DeviceAttributes(/job:worker/replica:0/task:0/device:TPU:4, TPU, 0, 0)\n"
          ]
        },
        {
          "output_type": "stream",
          "name": "stdout",
          "text": [
            "INFO:tensorflow:*** Available Device: _DeviceAttributes(/job:worker/replica:0/task:0/device:TPU:5, TPU, 0, 0)\n"
          ]
        },
        {
          "output_type": "stream",
          "name": "stderr",
          "text": [
            "INFO:tensorflow:*** Available Device: _DeviceAttributes(/job:worker/replica:0/task:0/device:TPU:5, TPU, 0, 0)\n"
          ]
        },
        {
          "output_type": "stream",
          "name": "stdout",
          "text": [
            "INFO:tensorflow:*** Available Device: _DeviceAttributes(/job:worker/replica:0/task:0/device:TPU:6, TPU, 0, 0)\n"
          ]
        },
        {
          "output_type": "stream",
          "name": "stderr",
          "text": [
            "INFO:tensorflow:*** Available Device: _DeviceAttributes(/job:worker/replica:0/task:0/device:TPU:6, TPU, 0, 0)\n"
          ]
        },
        {
          "output_type": "stream",
          "name": "stdout",
          "text": [
            "INFO:tensorflow:*** Available Device: _DeviceAttributes(/job:worker/replica:0/task:0/device:TPU:7, TPU, 0, 0)\n"
          ]
        },
        {
          "output_type": "stream",
          "name": "stderr",
          "text": [
            "INFO:tensorflow:*** Available Device: _DeviceAttributes(/job:worker/replica:0/task:0/device:TPU:7, TPU, 0, 0)\n"
          ]
        },
        {
          "output_type": "stream",
          "name": "stdout",
          "text": [
            "INFO:tensorflow:*** Available Device: _DeviceAttributes(/job:worker/replica:0/task:0/device:TPU_SYSTEM:0, TPU_SYSTEM, 0, 0)\n"
          ]
        },
        {
          "output_type": "stream",
          "name": "stderr",
          "text": [
            "INFO:tensorflow:*** Available Device: _DeviceAttributes(/job:worker/replica:0/task:0/device:TPU_SYSTEM:0, TPU_SYSTEM, 0, 0)\n"
          ]
        },
        {
          "output_type": "stream",
          "name": "stdout",
          "text": [
            "INFO:tensorflow:*** Available Device: _DeviceAttributes(/job:worker/replica:0/task:0/device:XLA_CPU:0, XLA_CPU, 0, 0)\n"
          ]
        },
        {
          "output_type": "stream",
          "name": "stderr",
          "text": [
            "INFO:tensorflow:*** Available Device: _DeviceAttributes(/job:worker/replica:0/task:0/device:XLA_CPU:0, XLA_CPU, 0, 0)\n"
          ]
        }
      ]
    },
    {
      "cell_type": "code",
      "source": [
        "%cd '/content/dataset_CNN&RNN'"
      ],
      "metadata": {
        "colab": {
          "base_uri": "https://localhost:8080/"
        },
        "id": "b-Un-xvrkMsM",
        "outputId": "e8ba4ae3-7b4f-4b8c-f96c-4bd33d6f618b"
      },
      "execution_count": 19,
      "outputs": [
        {
          "output_type": "stream",
          "name": "stdout",
          "text": [
            "/content/dataset_CNN&RNN\n"
          ]
        }
      ]
    },
    {
      "cell_type": "code",
      "source": [
        "x_large = pickle.load(open('x_training', \"rb\"))\n",
        "x_test = pickle.load(open('x_testing', \"rb\"))\n",
        "y_large = pickle.load(open('y_training', \"rb\"))\n",
        "y_test = pickle.load(open('y_testing', \"rb\"))"
      ],
      "metadata": {
        "execution": {
          "iopub.status.busy": "2021-12-08T19:26:28.199891Z",
          "iopub.execute_input": "2021-12-08T19:26:28.200216Z",
          "iopub.status.idle": "2021-12-08T19:26:28.713663Z",
          "shell.execute_reply.started": "2021-12-08T19:26:28.200174Z",
          "shell.execute_reply": "2021-12-08T19:26:28.712537Z"
        },
        "trusted": true,
        "id": "aj78ZONmhsfI"
      },
      "execution_count": 21,
      "outputs": []
    },
    {
      "cell_type": "code",
      "source": [
        "# word embeddings\n",
        "embeddings_pretrained = pickle.load(open('embeddings_w2v', \"rb\" ) )\n",
        "embeddings_random = pickle.load(open('embeddings_random', \"rb\"))\n",
        "\n",
        "# maximum text sequence length\n",
        "max_len = pickle.load(open('max_len', \"rb\"))\n",
        "\n",
        "# number and dimension of word embeddings\n",
        "dim_embed = embeddings_pretrained.shape[1]\n",
        "num_embed = embeddings_pretrained.shape[0]"
      ],
      "metadata": {
        "execution": {
          "iopub.status.busy": "2021-12-08T19:26:28.715807Z",
          "iopub.execute_input": "2021-12-08T19:26:28.716181Z",
          "iopub.status.idle": "2021-12-08T19:26:30.885317Z",
          "shell.execute_reply.started": "2021-12-08T19:26:28.716148Z",
          "shell.execute_reply": "2021-12-08T19:26:30.884282Z"
        },
        "trusted": true,
        "id": "p81XOtrahsfI"
      },
      "execution_count": 31,
      "outputs": []
    },
    {
      "cell_type": "code",
      "source": [
        "x_train, x_valid, y_train, y_valid = train_test_split(x_large, y_large, test_size = 0.2, random_state = 0)"
      ],
      "metadata": {
        "execution": {
          "iopub.status.busy": "2021-12-08T19:26:30.886742Z",
          "iopub.execute_input": "2021-12-08T19:26:30.88777Z",
          "iopub.status.idle": "2021-12-08T19:26:30.928478Z",
          "shell.execute_reply.started": "2021-12-08T19:26:30.887712Z",
          "shell.execute_reply": "2021-12-08T19:26:30.927471Z"
        },
        "trusted": true,
        "id": "IPnqFcBOhsfJ"
      },
      "execution_count": 32,
      "outputs": []
    },
    {
      "cell_type": "code",
      "source": [
        "class Conv1D_multiple_filters(keras.layers.Layer):\n",
        "    # intializes class attributes\n",
        "    def __init__(self, filter_size_list, filter_num_list, activation, pooling_fun):\n",
        "        super().__init__()\n",
        "         \n",
        "        self.num_window_sizes = len(filter_size_list)\n",
        "        self.convolutions_list = [Conv1D(filter_num_list[i],\n",
        "                                   filter_size_list[i],\n",
        "                                   activation = activation)\n",
        "                             for i in range(self.num_window_sizes)\n",
        "                             ]\n",
        "        self.pooling_fun = pooling_fun()\n",
        "        self.concat = Concatenate()\n",
        "        \n",
        "    def call(self, x):\n",
        "        # runs n-grams through convolutions with activation functions\n",
        "        x = [self.convolutions_list[i](x) for i in range(self.num_window_sizes)]\n",
        "        \n",
        "        # pooling\n",
        "        x = [self.pooling_fun(x[i]) for i in range(self.num_window_sizes)]\n",
        "                \n",
        "        # concatenates results from different filter sizes.  If only bigrams are used, then there is not concatentation to be done.\n",
        "        if len(x) == 1:\n",
        "            x = x[0] # list of 1 tensor -> tensor\n",
        "        elif len(x) > 1:\n",
        "            x = self.concat(x) # concatentates list of >1 tensors to one tensor.\n",
        "\n",
        "        return x"
      ],
      "metadata": {
        "execution": {
          "iopub.status.busy": "2021-12-08T19:26:30.929815Z",
          "iopub.execute_input": "2021-12-08T19:26:30.93007Z",
          "iopub.status.idle": "2021-12-08T19:26:30.940828Z",
          "shell.execute_reply.started": "2021-12-08T19:26:30.930042Z",
          "shell.execute_reply": "2021-12-08T19:26:30.939997Z"
        },
        "trusted": true,
        "id": "41gEYakvhsfJ"
      },
      "execution_count": 33,
      "outputs": []
    },
    {
      "cell_type": "code",
      "source": [
        "class F1(tf.keras.metrics.Metric):\n",
        "    # initializing class object\n",
        "    def __init__(self, name='F1', **kwargs):\n",
        "        super(F1, self).__init__(name=name, **kwargs)\n",
        "        \n",
        "        # intializes # TP's, FP's, and FN's to 0\n",
        "        self.TP = self.add_weight(name='TP', initializer='zeros')\n",
        "        self.FP = self.add_weight(name='FP', initializer='zeros')\n",
        "        self.FN = self.add_weight(name='FN', initializer='zeros')\n",
        "\n",
        "    # accumulates TP's, FP's, and FN's over batches in epoch\n",
        "    def update_state(self, y_true, y_pred, sample_weight = None):\n",
        "        \n",
        "        # converts probability score to boolean\n",
        "        y_pred = tf.where(y_pred > 0.5, True, False)\n",
        "\n",
        "        # ensures quantities are boolean\n",
        "        y_true = tf.cast(y_true, tf.bool)\n",
        "        y_pred = tf.cast(y_pred, tf.bool)\n",
        "        \n",
        "        # calculates # TP's, FP's, FN's in batch\n",
        "        TP_tensor = tf.logical_and(tf.equal(y_true, True), tf.equal(y_pred, True))\n",
        "        TP_tensor = tf.cast(TP_tensor, self.dtype)\n",
        "        TP = tf.reduce_sum(TP_tensor)\n",
        "        \n",
        "        FP_tensor = tf.logical_and(tf.equal(y_true, False), tf.equal(y_pred, True))\n",
        "        FP_tensor = tf.cast(FP_tensor, self.dtype)\n",
        "        FP = tf.reduce_sum(FP_tensor)\n",
        "        \n",
        "        FN_tensor = tf.logical_and(tf.equal(y_true, True), tf.equal(y_pred, False))\n",
        "        FN_tensor = tf.cast(FN_tensor, self.dtype)\n",
        "        FN = tf.reduce_sum(FN_tensor)\n",
        "        \n",
        "        # adds TP's, FP's and FN's to those of previous batches in epoch\n",
        "        self.TP.assign_add(TP)\n",
        "        self.FP.assign_add(FP)\n",
        "        self.FN.assign_add(FN)\n",
        "    \n",
        "    # calculates F-score\n",
        "    def result(self):\n",
        "        \n",
        "        precision = tf.math.divide(self.TP, tf.math.add(self.TP, self.FP))\n",
        "        recall = tf.math.divide(self.TP, tf.math.add(self.TP, self.FN))\n",
        "        \n",
        "        numerator = 2 * tf.math.multiply(precision, recall)\n",
        "        denominator = tf.math.add(precision, recall)\n",
        "        \n",
        "        F1 = tf.math.divide(numerator, denominator)\n",
        "        \n",
        "        return F1\n",
        "    \n",
        "    # resets TP's, FP's, and FN's to 0 at the end of epoch\n",
        "    def reset_state(self):\n",
        "        self.TP.assign(0)\n",
        "        self.FP.assign(0)\n",
        "        self.FN.assign(0)"
      ],
      "metadata": {
        "execution": {
          "iopub.status.busy": "2021-12-08T19:26:30.942261Z",
          "iopub.execute_input": "2021-12-08T19:26:30.942723Z",
          "iopub.status.idle": "2021-12-08T19:26:30.962699Z",
          "shell.execute_reply.started": "2021-12-08T19:26:30.942683Z",
          "shell.execute_reply": "2021-12-08T19:26:30.961163Z"
        },
        "trusted": true,
        "id": "OVMiw8h_hsfK"
      },
      "execution_count": 34,
      "outputs": []
    },
    {
      "cell_type": "code",
      "source": [
        "def plot_loss(history):\n",
        "    val_loss = history.history['val_loss']\n",
        "    epochs = range(1, len(val_loss) + 1)\n",
        "\n",
        "    plt.plot(epochs, val_loss, 'b')\n",
        "    plt.xlabel(\"Epoch\")\n",
        "    plt.ylabel(\"Validation Loss\")\n",
        "    plt.legend()\n",
        "\n",
        "def plot_F1(history):\n",
        "    val_f1 = history.history['val_F1']\n",
        "    epochs = range(1, len(val_f1) + 1)\n",
        "\n",
        "    plt.plot(epochs, val_f1, 'b')\n",
        "    plt.xlabel(\"Epoch\")\n",
        "    plt.ylabel(\"Validation F1\")\n",
        "    plt.legend()"
      ],
      "metadata": {
        "execution": {
          "iopub.status.busy": "2021-12-08T19:26:30.964238Z",
          "iopub.execute_input": "2021-12-08T19:26:30.965114Z",
          "iopub.status.idle": "2021-12-08T19:26:30.982455Z",
          "shell.execute_reply.started": "2021-12-08T19:26:30.965072Z",
          "shell.execute_reply": "2021-12-08T19:26:30.981305Z"
        },
        "trusted": true,
        "id": "EEzW3QClhsfL"
      },
      "execution_count": 35,
      "outputs": []
    },
    {
      "cell_type": "code",
      "source": [
        "########################### Modeling choices ##############################\n",
        "# choice between pretrained and random word embeddings (comment out one of the choices to use the other) - # student modifies this section\n",
        "embedding_matrix = embeddings_pretrained\n",
        "#embedding_matrix = embeddings_random\n",
        "\n",
        "# CNN hyperparameter choices - student modifies this section\n",
        "num_filters = 2400 # optional to modify\n",
        "max_ngram = 6 # do 2,3,4,5\n",
        "\n",
        "# biLSTM hyperparameter choices  - student modifies this section\n",
        "rnn_dim_hidden = 256 # note this is for each of the two LSTMs\n",
        "\n",
        "# mini-batch size (optional to modify)\n",
        "batch_size = 32\n",
        "num_epochs = 30\n",
        "\n",
        "# dropout (optional to modify)\n",
        "prob_dropout_input = 0.5\n",
        "prob_dropout_after_NN = 0.5\n",
        "prob_dropout_rnn = 0.5"
      ],
      "metadata": {
        "trusted": true,
        "id": "hspEhZKshsfN"
      },
      "execution_count": 46,
      "outputs": []
    },
    {
      "cell_type": "code",
      "source": [
        "##################################### model definition #############################################\n",
        "# splits number of filters evenly into filter sizes, and if it doesn't divide evenly, adds one filter to smaller filter sizes until none left\n",
        "filter_size_list = list(range(2, max_ngram + 1))\n",
        "filter_num_list = [num_filters//(max_ngram - 1)] * (max_ngram - 1)\n",
        "remainder = num_filters % (max_ngram - 1)\n",
        "for i in range(remainder):\n",
        "    filter_num_list[i] += 1\n",
        "\n",
        "# sets pseudorandom seeds\n",
        "random.seed(1)\n",
        "np.random.seed(1)\n",
        "tf.random.set_seed(1)\n",
        "\n",
        "##### defining the model\n",
        "with tpu_strategy.scope():\n",
        "\n",
        "    # using the Sequential module\n",
        "    model = Sequential()\n",
        "\n",
        "    # adds word embedding layer to model\n",
        "    model.add(Embedding(num_embed, dim_embed, \n",
        "                               weights=[embedding_matrix], \n",
        "                               input_length = max_len, \n",
        "                               trainable = False))\n",
        "\n",
        "    # dropout\n",
        "    model.add(Dropout(prob_dropout_input))\n",
        "\n",
        "    ### adds CNN or biLSM (choose by commenting out one of these lines) - student modifies this section\n",
        "    model.add(Conv1D_multiple_filters(filter_size_list, filter_num_list, activation = 'relu', pooling_fun = GlobalMaxPooling1D))\n",
        "    #model.add(Bidirectional(LSTM(rnn_dim_hidden, recurrent_dropout = prob_dropout_rnn)))\n",
        "    ###\n",
        "\n",
        "    # dropout\n",
        "    model.add(Dropout(prob_dropout_after_NN))\n",
        "\n",
        "    # adds a MLP(1) layer\n",
        "    model.add(Dense(1, activation = 'sigmoid'))\n",
        "\n",
        "\n",
        "    # chooses loss function, optimizer, and evaluation metrics\n",
        "    fscore = F1()\n",
        "    model.compile(optimizer = 'adam',\n",
        "                  loss = 'binary_crossentropy',\n",
        "                  metrics = ['Precision', 'Recall', fscore])\n",
        "\n",
        "    # prints model structure summary (just for user)\n",
        "    model.summary()"
      ],
      "metadata": {
        "colab": {
          "base_uri": "https://localhost:8080/"
        },
        "id": "BTyp37dPhsfN",
        "outputId": "a97d6f91-048b-450f-e6d8-969888573b1c"
      },
      "execution_count": 47,
      "outputs": [
        {
          "output_type": "stream",
          "name": "stdout",
          "text": [
            "Model: \"sequential_3\"\n",
            "_________________________________________________________________\n",
            " Layer (type)                Output Shape              Param #   \n",
            "=================================================================\n",
            " embedding_3 (Embedding)     (None, 116, 300)          8986500   \n",
            "                                                                 \n",
            " dropout_6 (Dropout)         (None, 116, 300)          0         \n",
            "                                                                 \n",
            " conv1d_multiple_filters_2 (  (None, 2400)             2882400   \n",
            " Conv1D_multiple_filters)                                        \n",
            "                                                                 \n",
            " dropout_7 (Dropout)         (None, 2400)              0         \n",
            "                                                                 \n",
            " dense_3 (Dense)             (None, 1)                 2401      \n",
            "                                                                 \n",
            "=================================================================\n",
            "Total params: 11,871,301\n",
            "Trainable params: 2,884,801\n",
            "Non-trainable params: 8,986,500\n",
            "_________________________________________________________________\n"
          ]
        }
      ]
    },
    {
      "cell_type": "code",
      "source": [
        "################################ model fitting ###############################\n",
        "\n",
        "# stops training when the model fails to improve validation loss for 20 epochs, and selects the best model \n",
        "early_stopping = tf.keras.callbacks.EarlyStopping(monitor = 'val_F1',\n",
        "                                                  mode = 'max',\n",
        "                                                  patience = 10,\n",
        "                                                  restore_best_weights = True)\n",
        "\n",
        "\n",
        "# trains model\n",
        "history = model.fit(x_train, y_train,\n",
        "                    epochs = num_epochs,\n",
        "                    verbose = 1, # change to 0 if you don't want to print intermediate results during training\n",
        "                    validation_data = (x_valid, y_valid),\n",
        "                    batch_size = batch_size,\n",
        "                    validation_batch_size = len(y_valid),\n",
        "                    callbacks = [early_stopping])"
      ],
      "metadata": {
        "colab": {
          "base_uri": "https://localhost:8080/"
        },
        "id": "wdecdtZknfRS",
        "outputId": "2467bd20-8b19-4836-dcaf-8c28a5dd7005"
      },
      "execution_count": 48,
      "outputs": [
        {
          "output_type": "stream",
          "name": "stdout",
          "text": [
            "Epoch 1/30\n",
            "2000/2000 [==============================] - 50s 22ms/step - loss: 0.7456 - precision: 0.4968 - recall: 0.4362 - F1: 0.4645 - val_loss: 0.6868 - val_precision: 0.5155 - val_recall: 0.6310 - val_F1: 0.5674\n",
            "Epoch 2/30\n",
            "2000/2000 [==============================] - 41s 21ms/step - loss: 0.7096 - precision: 0.5094 - recall: 0.4326 - F1: 0.4679 - val_loss: 0.6893 - val_precision: 0.5503 - val_recall: 0.2343 - val_F1: 0.3286\n",
            "Epoch 3/30\n",
            "2000/2000 [==============================] - 41s 21ms/step - loss: 0.7111 - precision: 0.5172 - recall: 0.4390 - F1: 0.4749 - val_loss: 0.6953 - val_precision: 0.5051 - val_recall: 0.6828 - val_F1: 0.5807\n",
            "Epoch 4/30\n",
            "2000/2000 [==============================] - 42s 21ms/step - loss: 0.7089 - precision: 0.5267 - recall: 0.4449 - F1: 0.4824 - val_loss: 0.6838 - val_precision: 0.5402 - val_recall: 0.3650 - val_F1: 0.4356\n",
            "Epoch 5/30\n",
            "2000/2000 [==============================] - 41s 20ms/step - loss: 0.7082 - precision: 0.5276 - recall: 0.4473 - F1: 0.4841 - val_loss: 0.6907 - val_precision: 0.5345 - val_recall: 0.3923 - val_F1: 0.4525\n",
            "Epoch 6/30\n",
            "2000/2000 [==============================] - 42s 21ms/step - loss: 0.7055 - precision: 0.5367 - recall: 0.4439 - F1: 0.4859 - val_loss: 0.6890 - val_precision: 0.5501 - val_recall: 0.2540 - val_F1: 0.3476\n",
            "Epoch 7/30\n",
            "2000/2000 [==============================] - 42s 21ms/step - loss: 0.7034 - precision: 0.5440 - recall: 0.4533 - F1: 0.4946 - val_loss: 0.6930 - val_precision: 0.5194 - val_recall: 0.4809 - val_F1: 0.4994\n",
            "Epoch 8/30\n",
            "2000/2000 [==============================] - 41s 21ms/step - loss: 0.6986 - precision: 0.5476 - recall: 0.4562 - F1: 0.4977 - val_loss: 0.6866 - val_precision: 0.5439 - val_recall: 0.3601 - val_F1: 0.4333\n",
            "Epoch 9/30\n",
            "2000/2000 [==============================] - 41s 21ms/step - loss: 0.6964 - precision: 0.5593 - recall: 0.4635 - F1: 0.5070 - val_loss: 0.6899 - val_precision: 0.5401 - val_recall: 0.4002 - val_F1: 0.4597\n",
            "Epoch 10/30\n",
            "2000/2000 [==============================] - 41s 20ms/step - loss: 0.6897 - precision: 0.5713 - recall: 0.4761 - F1: 0.5194 - val_loss: 0.6908 - val_precision: 0.5292 - val_recall: 0.4800 - val_F1: 0.5034\n",
            "Epoch 11/30\n",
            "2000/2000 [==============================] - 41s 20ms/step - loss: 0.6883 - precision: 0.5725 - recall: 0.4781 - F1: 0.5210 - val_loss: 0.6883 - val_precision: 0.5411 - val_recall: 0.3280 - val_F1: 0.4084\n",
            "Epoch 12/30\n",
            "2000/2000 [==============================] - 41s 20ms/step - loss: 0.6851 - precision: 0.5779 - recall: 0.4844 - F1: 0.5271 - val_loss: 0.6942 - val_precision: 0.5320 - val_recall: 0.3882 - val_F1: 0.4488\n",
            "Epoch 13/30\n",
            "2000/2000 [==============================] - 42s 21ms/step - loss: 0.6810 - precision: 0.5853 - recall: 0.4928 - F1: 0.5351 - val_loss: 0.6913 - val_precision: 0.5448 - val_recall: 0.3311 - val_F1: 0.4118\n"
          ]
        }
      ]
    },
    {
      "cell_type": "code",
      "source": [
        "###################### Performance #############################\n",
        "# prediction \n",
        "y_pred = np.round(model.predict(x_test)).flatten()\n",
        "\n",
        "# performance measures\n",
        "precision, recall, f1, support = precision_recall_fscore_support(y_test, y_pred, average = 'binary')\n",
        "\n",
        "# printing\n",
        "print('precision : ', precision)\n",
        "print('recall : ', recall)\n",
        "print('F1 : ', f1)"
      ],
      "metadata": {
        "colab": {
          "base_uri": "https://localhost:8080/"
        },
        "id": "p2rXmd9MnfT5",
        "outputId": "6121e8f8-9f04-4e39-f6f2-2a8becf89eef"
      },
      "execution_count": 49,
      "outputs": [
        {
          "output_type": "stream",
          "name": "stdout",
          "text": [
            "precision :  0.4909813269765594\n",
            "recall :  0.6713385484571925\n",
            "F1 :  0.5671669190876131\n"
          ]
        }
      ]
    },
    {
      "cell_type": "code",
      "source": [
        "#################### Plotting #################\n",
        "plot_loss(history)\n",
        "plt.show()\n",
        "plot_F1(history)\n",
        "plt.show()"
      ],
      "metadata": {
        "colab": {
          "base_uri": "https://localhost:8080/",
          "height": 581
        },
        "id": "CDg8faX_nfXL",
        "outputId": "77d03285-6346-4a4f-e24e-f39f743149e9"
      },
      "execution_count": 50,
      "outputs": [
        {
          "output_type": "stream",
          "name": "stderr",
          "text": [
            "WARNING:matplotlib.legend:No handles with labels found to put in legend.\n"
          ]
        },
        {
          "output_type": "display_data",
          "data": {
            "image/png": "[encoded data removed]",
            "text/plain": [
              "<Figure size 432x288 with 1 Axes>"
            ]
          },
          "metadata": {}
        },
        {
          "output_type": "stream",
          "name": "stderr",
          "text": [
            "WARNING:matplotlib.legend:No handles with labels found to put in legend.\n"
          ]
        },
        {
          "output_type": "display_data",
          "data": {
            "image/png": "[encoded data removed]",
            "text/plain": [
              "<Figure size 432x288 with 1 Axes>"
            ]
          },
          "metadata": {}
        }
      ]
    }
  ]
}